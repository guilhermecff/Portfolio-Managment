{
 "cells": [
  {
   "cell_type": "code",
   "execution_count": 1,
   "metadata": {},
   "outputs": [],
   "source": [
    "import pathlib\n",
    "import numpy as np\n",
    "import pandas as pd\n",
    "import matplotlib.pyplot as plt\n",
    "import scipy.optimize as sci_plt\n",
    "\n",
    "from pprint import pprint\n",
    "from sklearn.preprocessing import StandardScaler\n",
    "import yfinance as yf\n",
    "pd.set_option('display.max_colwidth', None)\n",
    "pd.set_option('expand_frame_repr', False)\n"
   ]
  },
  {
   "cell_type": "code",
   "execution_count": 2,
   "metadata": {},
   "outputs": [
    {
     "name": "stderr",
     "output_type": "stream",
     "text": [
      "[*********************100%%**********************]  5 of 5 completed\n"
     ]
    },
    {
     "data": {
      "text/html": [
       "<div>\n",
       "<style scoped>\n",
       "    .dataframe tbody tr th:only-of-type {\n",
       "        vertical-align: middle;\n",
       "    }\n",
       "\n",
       "    .dataframe tbody tr th {\n",
       "        vertical-align: top;\n",
       "    }\n",
       "\n",
       "    .dataframe thead th {\n",
       "        text-align: right;\n",
       "    }\n",
       "</style>\n",
       "<table border=\"1\" class=\"dataframe\">\n",
       "  <thead>\n",
       "    <tr style=\"text-align: right;\">\n",
       "      <th>Ticker</th>\n",
       "      <th>ABEV3.SA</th>\n",
       "      <th>PETR3.SA</th>\n",
       "      <th>ITUB4.SA</th>\n",
       "      <th>VALE3.SA</th>\n",
       "      <th>BBDC4.SA</th>\n",
       "    </tr>\n",
       "    <tr>\n",
       "      <th>Date</th>\n",
       "      <th></th>\n",
       "      <th></th>\n",
       "      <th></th>\n",
       "      <th></th>\n",
       "      <th></th>\n",
       "    </tr>\n",
       "  </thead>\n",
       "  <tbody>\n",
       "    <tr>\n",
       "      <th>2020-01-02</th>\n",
       "      <td>16.175148</td>\n",
       "      <td>11.703511</td>\n",
       "      <td>31.228830</td>\n",
       "      <td>36.413361</td>\n",
       "      <td>22.384174</td>\n",
       "    </tr>\n",
       "    <tr>\n",
       "      <th>2020-01-03</th>\n",
       "      <td>15.947685</td>\n",
       "      <td>11.414492</td>\n",
       "      <td>30.900372</td>\n",
       "      <td>36.145264</td>\n",
       "      <td>22.395496</td>\n",
       "    </tr>\n",
       "    <tr>\n",
       "      <th>2020-01-06</th>\n",
       "      <td>16.023504</td>\n",
       "      <td>11.785577</td>\n",
       "      <td>30.440514</td>\n",
       "      <td>35.930790</td>\n",
       "      <td>21.995480</td>\n",
       "    </tr>\n",
       "    <tr>\n",
       "      <th>2020-01-07</th>\n",
       "      <td>16.057205</td>\n",
       "      <td>11.625012</td>\n",
       "      <td>29.734314</td>\n",
       "      <td>36.192177</td>\n",
       "      <td>21.613344</td>\n",
       "    </tr>\n",
       "    <tr>\n",
       "      <th>2020-01-08</th>\n",
       "      <td>15.981383</td>\n",
       "      <td>11.435903</td>\n",
       "      <td>29.249830</td>\n",
       "      <td>36.198883</td>\n",
       "      <td>21.279007</td>\n",
       "    </tr>\n",
       "  </tbody>\n",
       "</table>\n",
       "</div>"
      ],
      "text/plain": [
       "Ticker       ABEV3.SA   PETR3.SA   ITUB4.SA   VALE3.SA   BBDC4.SA\n",
       "Date                                                             \n",
       "2020-01-02  16.175148  11.703511  31.228830  36.413361  22.384174\n",
       "2020-01-03  15.947685  11.414492  30.900372  36.145264  22.395496\n",
       "2020-01-06  16.023504  11.785577  30.440514  35.930790  21.995480\n",
       "2020-01-07  16.057205  11.625012  29.734314  36.192177  21.613344\n",
       "2020-01-08  15.981383  11.435903  29.249830  36.198883  21.279007"
      ]
     },
     "execution_count": 2,
     "metadata": {},
     "output_type": "execute_result"
    }
   ],
   "source": [
    "ativos = ['ITUB4.SA', 'BBDC4.SA', 'ABEV3.SA', 'PETR3.SA', 'VALE3.SA']\n",
    "num_ativos = len(ativos)\n",
    "csv_file_path = \"data/stock_data.csv\"\n",
    "\n",
    "if not pathlib.Path(csv_file_path).exists():\n",
    "    stock_data = yf.download(ativos, start=\"2020-01-01\", end=\"2025-01-01\", group_by=\"ticker\")\n",
    "    stock_data.to_csv(csv_file_path, index=True)\n",
    "else:\n",
    "    stock_data = pd.read_csv(csv_file_path, header=[0, 1], index_col=0)\n",
    "\n",
    "price_data_frame = stock_data.xs('Adj Close', axis=1, level=1)\n",
    "\n",
    "price_data_frame.head()\n",
    "\n"
   ]
  },
  {
   "cell_type": "code",
   "execution_count": null,
   "metadata": {},
   "outputs": [],
   "source": []
  },
  {
   "cell_type": "code",
   "execution_count": null,
   "metadata": {},
   "outputs": [],
   "source": []
  }
 ],
 "metadata": {
  "kernelspec": {
   "display_name": "myenv",
   "language": "python",
   "name": "python3"
  },
  "language_info": {
   "codemirror_mode": {
    "name": "ipython",
    "version": 3
   },
   "file_extension": ".py",
   "mimetype": "text/x-python",
   "name": "python",
   "nbconvert_exporter": "python",
   "pygments_lexer": "ipython3",
   "version": "3.12.4"
  }
 },
 "nbformat": 4,
 "nbformat_minor": 2
}
